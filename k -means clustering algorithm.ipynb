{
 "cells": [
  {
   "cell_type": "code",
   "execution_count": 4,
   "metadata": {},
   "outputs": [],
   "source": [
    "from math import sqrt\n",
    "\n",
    "class Point(object):\n",
    "\n",
    "    def __init__(self, x, y):\n",
    "        self.x = x\n",
    "        self.y = y\n",
    "\n",
    "    def __repr__(self):\n",
    "        return \"Point(%d)\" % (self.x)\n",
    "        \n",
    "    def distance(self, other):\n",
    "        q, w = (self.x - other.x, self.y - other.y)\n",
    "        a = (q**2)\n",
    "        k = (w**2)\n",
    "        return sqrt((a + k))\n",
    "       "
   ]
  },
  {
   "cell_type": "code",
   "execution_count": 5,
   "metadata": {},
   "outputs": [],
   "source": [
    "class Cluster(object):\n",
    "\n",
    "    def __init__(self, x, y):\n",
    "        self.center = Point(x, y)\n",
    "        self.points = []\n",
    "\n",
    "    def update(self):\n",
    "\n",
    "        if len(self.points) == 0:\n",
    "            return\n",
    "\n",
    "        _x = []\n",
    "        _y = []\n",
    "\n",
    "        for point in self.points:\n",
    "            _x += [point.x]\n",
    "            _y += [point.y]\n",
    "\n",
    "        self.center = Point(sum(_x)/len(_x),sum(_y)/len(_y)) \n",
    "        self.points = []\n",
    "\n",
    "    def add_point(self, point):\n",
    "        self.points.append(point)\n",
    "\n",
    "\n",
    "def compute_result(points):\n",
    "    points = [Point(*point) for point in points]\n",
    "    print(points)\n",
    "    a = Cluster(1,0)\n",
    "    b = Cluster(-1,0)\n",
    "    a_old = []\n",
    "\n",
    "    for _ in range(10000): # max iterations\n",
    "        for point in points:\n",
    "            if point.distance(a.center) < point.distance(b.center):\n",
    "                # add the right point\n",
    "                a.add_point(point)\n",
    "            else:\n",
    "                # add the right point\n",
    "                b.add_point(point)\n",
    "\n",
    "        if a_old == a.points:\n",
    "            break\n",
    "\n",
    "        a_old = a.points[:]\n",
    "        a.update()\n",
    "        b.update()\n",
    "\n",
    "    a_t = (a.center.x,a.center.y)\n",
    "    b_t = (b.center.x,b.center.y)\n",
    "    _ = []\n",
    "\n",
    "    if a_t[0] > b_t[0]:\n",
    "        _.extend([a_t,b_t])\n",
    "    else:\n",
    "        _.extend([b_t,a_t])\n",
    "\n",
    "    return _"
   ]
  },
  {
   "cell_type": "code",
   "execution_count": null,
   "metadata": {},
   "outputs": [],
   "source": [
    "p = [100, 102, -101, -800, 800]\n",
    "compute_result(p)"
   ]
  }
 ],
 "metadata": {
  "kernelspec": {
   "display_name": "Python 3",
   "language": "python",
   "name": "python3"
  },
  "language_info": {
   "codemirror_mode": {
    "name": "ipython",
    "version": 3
   },
   "file_extension": ".py",
   "mimetype": "text/x-python",
   "name": "python",
   "nbconvert_exporter": "python",
   "pygments_lexer": "ipython3",
   "version": "3.6.2"
  }
 },
 "nbformat": 4,
 "nbformat_minor": 2
}
